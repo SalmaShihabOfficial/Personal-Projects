{
 "cells": [
  {
   "cell_type": "code",
   "execution_count": 2,
   "id": "226d2338",
   "metadata": {},
   "outputs": [],
   "source": [
    "import requests\n",
    "from bs4 import BeautifulSoup\n",
    "import csv\n"
   ]
  },
  {
   "cell_type": "markdown",
   "id": "3d81e7c9",
   "metadata": {},
   "source": [
    "URL of the website to scrape"
   ]
  },
  {
   "cell_type": "code",
   "execution_count": 3,
   "id": "3daa8b3d",
   "metadata": {},
   "outputs": [],
   "source": [
    "url = \"https://www.espncricinfo.com/records/season/team-match-results/2022to23-2022to23?trophy=89\""
   ]
  },
  {
   "cell_type": "markdown",
   "id": "afe7c762",
   "metadata": {},
   "source": [
    "Send a GET request to the website"
   ]
  },
  {
   "cell_type": "code",
   "execution_count": 4,
   "id": "dfee0d0e",
   "metadata": {},
   "outputs": [],
   "source": [
    "response = requests.get(url)"
   ]
  },
  {
   "cell_type": "markdown",
   "id": "53f036d9",
   "metadata": {},
   "source": [
    "Create a BeautifulSoup object to parse the HTML content\n"
   ]
  },
  {
   "cell_type": "code",
   "execution_count": 5,
   "id": "8cc052ce",
   "metadata": {},
   "outputs": [],
   "source": [
    "soup = BeautifulSoup(response.text, \"html\")"
   ]
  },
  {
   "cell_type": "markdown",
   "id": "51a69ac3",
   "metadata": {},
   "source": [
    "Find the table containing the match results\n"
   ]
  },
  {
   "cell_type": "code",
   "execution_count": 7,
   "id": "c62a65fa",
   "metadata": {},
   "outputs": [],
   "source": [
    "table = soup.find(\"table\", class_=\"ds-w-full ds-table ds-table-xs ds-table-auto ds-w-full ds-overflow-scroll ds-scrollbar-hide\")"
   ]
  },
  {
   "cell_type": "markdown",
   "id": "226710b0",
   "metadata": {},
   "source": [
    "Find all the rows in the table (excluding the header row)"
   ]
  },
  {
   "cell_type": "code",
   "execution_count": 9,
   "id": "ba555a28",
   "metadata": {},
   "outputs": [],
   "source": [
    "rows = table.find_all(\"tr\")[1:]"
   ]
  },
  {
   "cell_type": "markdown",
   "id": "5f7e761e",
   "metadata": {},
   "source": [
    " Open the CSV file in write mode\n"
   ]
  },
  {
   "cell_type": "code",
   "execution_count": 10,
   "id": "9b6c4ecc",
   "metadata": {},
   "outputs": [],
   "source": [
    "with open(\"match_results.csv\", \"w\", newline=\"\", encoding=\"utf-8\") as csv_file:\n",
    "    writer = csv.writer(csv_file)\n",
    "    writer.writerow([\"Team 1\", \"Team 2\", \"Winner\",\"Margin\",\"Ground\",\"MatchDate\",\"ScoreCard\"])\n",
    "    for row in rows:\n",
    "        # Extract the team names\n",
    "        \n",
    "        team_names = row.find_all(\"td\")\n",
    "        team_1 = team_names[0].text.strip()\n",
    "        team_2 = team_names[1].text.strip()\n",
    "\n",
    "        # Extract the result\n",
    "        winner = team_names[2].text.strip()\n",
    "        margin = team_names[3].text.strip()\n",
    "        ground = team_names[4].text.strip()\n",
    "        date = team_names[5].text.strip()\n",
    "        card = team_names[6].text.strip()\n",
    "        \n",
    "\n",
    "        # Write the team names and result to the CSV file\n",
    "        writer.writerow([team_1, team_2, winner, margin, ground, date, card])"
   ]
  },
  {
   "cell_type": "code",
   "execution_count": 11,
   "id": "44b69ca4",
   "metadata": {},
   "outputs": [
    {
     "name": "stdout",
     "output_type": "stream",
     "text": [
      "Match results have been scraped and saved to match_results.csv.\n"
     ]
    }
   ],
   "source": [
    "print(\"Match results have been scraped and saved to match_results.csv.\")"
   ]
  }
 ],
 "metadata": {
  "kernelspec": {
   "display_name": "Python 3 (ipykernel)",
   "language": "python",
   "name": "python3"
  },
  "language_info": {
   "codemirror_mode": {
    "name": "ipython",
    "version": 3
   },
   "file_extension": ".py",
   "mimetype": "text/x-python",
   "name": "python",
   "nbconvert_exporter": "python",
   "pygments_lexer": "ipython3",
   "version": "3.9.13"
  }
 },
 "nbformat": 4,
 "nbformat_minor": 5
}
